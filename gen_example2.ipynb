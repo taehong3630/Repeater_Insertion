{
 "cells": [
  {
   "cell_type": "code",
   "execution_count": 148,
   "id": "561e984b",
   "metadata": {},
   "outputs": [
    {
     "data": {
      "text/html": [
       "<style>.container { width:85% !important; }</style>"
      ],
      "text/plain": [
       "<IPython.core.display.HTML object>"
      ]
     },
     "metadata": {},
     "output_type": "display_data"
    },
    {
     "data": {
      "text/html": [
       "<style>.output_result { max-width:95% !important; }</style>"
      ],
      "text/plain": [
       "<IPython.core.display.HTML object>"
      ]
     },
     "metadata": {},
     "output_type": "display_data"
    },
    {
     "data": {
      "text/html": [
       "<style>.prompt { min-width: 10ex !important; }</style>"
      ],
      "text/plain": [
       "<IPython.core.display.HTML object>"
      ]
     },
     "metadata": {},
     "output_type": "display_data"
    }
   ],
   "source": [
    "import tensorflow as tf\n",
    "import numpy as np\n",
    "import matplotlib.pyplot as plt\n",
    "import math\n",
    "import time\n",
    "import sys\n",
    "import itertools\n",
    "import random\n",
    "import torch\n",
    "import os\n",
    "import signal\n",
    "import gc\n",
    "import dgl\n",
    "import networkx as nx\n",
    "from keras.models import Sequential\n",
    "from keras.layers import Dense, Conv2D, MaxPool2D, Flatten, Dense, Dropout\n",
    "from keras import backend as K\n",
    "from keras.utils import plot_model\n",
    "from numba import cuda,jit\n",
    "import multiprocessing as mp\n",
    "from multiprocessing import Pool, cpu_count\n",
    "import psutil\n",
    "\n",
    "np.set_printoptions(threshold=sys.maxsize,linewidth=512)\n",
    "#np.set_printoptions(threshold=256)\n",
    "\n",
    "from IPython.display import display, HTML\n",
    "display(HTML(\"<style>.container { width:85% !important; }</style>\"))\n",
    "display(HTML(\"<style>.output_result { max-width:95% !important; }</style>\"))\n",
    " \n",
    "#여백 줄이기\n",
    "display(HTML(\"<style>.prompt { min-width: 10ex !important; }</style>\"))"
   ]
  },
  {
   "cell_type": "code",
   "execution_count": 149,
   "id": "c57120ca",
   "metadata": {},
   "outputs": [],
   "source": [
    "gpus = tf.config.experimental.list_physical_devices('GPU')\n",
    "if gpus:\n",
    "  try:\n",
    "    tf.config.experimental.set_memory_growth(gpus[0], True)\n",
    "  except RuntimeError as e:\n",
    "    \n",
    "    print(e)"
   ]
  },
  {
   "cell_type": "code",
   "execution_count": 150,
   "id": "9e8fcded",
   "metadata": {},
   "outputs": [],
   "source": [
    "target_length=100\n",
    "unit_space_x=5\n",
    "unit_space_y=5\n",
    "unit_space = np.array([unit_space_y, unit_space_x])"
   ]
  },
  {
   "cell_type": "code",
   "execution_count": 151,
   "id": "2ab9ae6b",
   "metadata": {},
   "outputs": [],
   "source": [
    "def active_seed(matrix_size,density=0.8):\n",
    "    active=np.random.choice(range(0,2),matrix_size,p=[density,1-density]).astype(np.int8)\n",
    "    \n",
    "    return active\n",
    "\n",
    "        "
   ]
  },
  {
   "cell_type": "code",
   "execution_count": 152,
   "id": "d387f57f",
   "metadata": {
    "scrolled": false
   },
   "outputs": [],
   "source": [
    "def active_trans(seed,x,y):\n",
    "    copy = seed.copy()\n",
    "    for i in range(seed.shape[0]):\n",
    "        for j in range(seed.shape[1]):\n",
    "            if seed[i][j]==1:\n",
    "                x_temp = np.random.choice(range(1,x+1))\n",
    "                y_temp = np.random.choice(range(2,y+1))\n",
    "                if j+x_temp > seed.shape[1]-1:\n",
    "                    x_temp = seed.shape[1]-j\n",
    "                if i+y_temp > seed.shape[0]-1:\n",
    "                    y_temp = seed.shape[0]-i\n",
    "                for a in range(y_temp):\n",
    "                    for b in range(x_temp):\n",
    "                        copy[i+a,j+b]=-1\n",
    "                \n",
    "    return copy\n",
    "\n",
    "def gen_act(y,x,num=100):\n",
    "    start=time.time()\n",
    "    active_origin=np.zeros([1,y,x])\n",
    "    density = np.array([0.6,0.7,0.8,0.8]) #pre-occupied active density\n",
    "        \n",
    "    for i in range(num):\n",
    "        den = np.random.choice(density)\n",
    "        seed=active_seed((y,x),den)\n",
    "        active_origin=np.append(active_origin,active_trans(seed,2,4).reshape(1,y,x),axis=0)\n",
    "    active_origin=np.delete(active_origin,0,axis=0)\n",
    "    active_origin=active_origin.astype(np.int8)\n",
    "    end=time.time()\n",
    "    print(end-start)\n",
    "    return active_origin"
   ]
  },
  {
   "cell_type": "code",
   "execution_count": 153,
   "id": "b1e91795",
   "metadata": {},
   "outputs": [],
   "source": [
    "def active_trans(seed,x,y):\n",
    "    copy = seed.copy()\n",
    "    for i in range(seed.shape[0]):\n",
    "        for j in range(seed.shape[1]):\n",
    "            if seed[i][j]==1:\n",
    "                x_temp = np.random.choice(range(1,x+1))\n",
    "                y_temp = np.random.choice(range(2,y+1))\n",
    "                if j+x_temp > seed.shape[1]-1:\n",
    "                    x_temp = seed.shape[1]-j\n",
    "                if i+y_temp > seed.shape[0]-1:\n",
    "                    y_temp = seed.shape[0]-i\n",
    "                for a in range(y_temp):\n",
    "                    for b in range(x_temp):\n",
    "                        copy[i+a,j+b]=-1\n",
    "                \n",
    "    return copy\n",
    "\n",
    "def gen_act(y,x,num=100):\n",
    "    start=time.time()\n",
    "    active_origin = np.zeros([num, y, x], dtype=np.int8)\n",
    "    density = np.array([0.6, 0.7, 0.8, 0.8]) #pre-occupied active density\n",
    "    for i in range(num):\n",
    "        den = np.random.choice(density)\n",
    "        seed = active_seed((y,x),den)\n",
    "        active_origin[i] = active_trans(seed,2,4)\n",
    "    end=time.time()\n",
    "    print(end-start)\n",
    "    return active_origin"
   ]
  },
  {
   "cell_type": "code",
   "execution_count": null,
   "id": "53c9b18a",
   "metadata": {},
   "outputs": [],
   "source": []
  },
  {
   "cell_type": "code",
   "execution_count": 154,
   "id": "b3b80d25",
   "metadata": {},
   "outputs": [],
   "source": [
    "def random_normal_int(size):\n",
    "    sigma=size/4\n",
    "    m=size/2\n",
    "    min=1\n",
    "    max=size-1\n",
    "    a=0\n",
    "    while a <=0 or a>=size-1:\n",
    "        a=math.floor(sigma*np.random.randn()+m)\n",
    "    return a"
   ]
  },
  {
   "cell_type": "code",
   "execution_count": null,
   "id": "d9c632f2",
   "metadata": {},
   "outputs": [],
   "source": []
  },
  {
   "cell_type": "code",
   "execution_count": 155,
   "id": "25b727a1",
   "metadata": {},
   "outputs": [],
   "source": [
    "def in_out_mid_gen(active_origin,target):\n",
    "    min_rpt=0\n",
    "    active = np.copy(active_origin)\n",
    "    active_inout = np.copy(active_origin)\n",
    "#   choice = np.random.choice(range(3))\n",
    "\n",
    "\n",
    "#    x1 = np.random.choice(range(0,active_origin.shape[1]-(20*choice+20+1)))\n",
    "#    x2 = np.random.choice(range(x1+(20*choice+20),active_origin.shape[1]))\n",
    "\n",
    "    x1 = np.random.choice(range(0,active_origin.shape[1]-30-10*target-1))\n",
    "    x2 = np.random.choice(range(x1+30+10*target,active_origin.shape[1]))\n",
    "\n",
    "    count=0    \n",
    "    for i in range(100000):\n",
    "        y2 = np.random.choice(range(0,active_origin.shape[0]-2))\n",
    "        y1 = np.random.choice(range(y2+1,active_origin.shape[0]))\n",
    "        distance = abs(x1-x2)*unit_space_x+abs(y1-y2)*unit_space_y\n",
    "#total target min distance >= 250um\n",
    "        if distance >= target_length*2.5:\n",
    "            min_rpt = int(distance/target_length)\n",
    "            break\n",
    "    if count>=10000:\n",
    "        print(\"##########ERROR###########\")\n",
    "#    print(\"Input:\",x1,y1)\n",
    "#    print(\"Output:\",x2,y2)\n",
    "    mid = np.random.choice(range(x1+1,x2))\n",
    "#    print(\"mid\",mid)\n",
    "    active[y1,x1]=2\n",
    "    active[y2,x2]=2\n",
    "    \n",
    "    step1 = mid - x1\n",
    "    step2 = abs(y2-y1)\n",
    "    step3 = x2 - mid\n",
    "    for i in range(step1):\n",
    "        active[y1][x1+i+1]=1\n",
    "    for i in range(step2+1):\n",
    "        if y2-y1>=0:\n",
    "            active[y1+i][mid]=1\n",
    "        else:\n",
    "            active[y2+i][mid]=1\n",
    "    for i in range(step3):\n",
    "        active[y2][mid+i+1]=1\n",
    "    active[y1][x1]=2\n",
    "    active[y2][x2]=2\n",
    "    active_inout[y1][x1]=2\n",
    "    active_inout[y2][x2]=2\n",
    "    active_routing = np.copy(active)\n",
    "    active_routing[active_routing==-1]=0\n",
    "    return active,active_inout,active_routing,mid,distance,min_rpt,x1,x2,y1,y2\n"
   ]
  },
  {
   "cell_type": "code",
   "execution_count": null,
   "id": "1542b4a2",
   "metadata": {},
   "outputs": [],
   "source": []
  },
  {
   "cell_type": "code",
   "execution_count": 100,
   "id": "ef4437f4",
   "metadata": {},
   "outputs": [],
   "source": [
    "def find_start_end_mid(active_routing):\n",
    "    a1=np.where(active_routing==1)[1]\n",
    "    unique_elements, counts=np.unique(a1, return_counts=True)\n",
    "    mid=unique_elements[counts>1][0]\n",
    "    \n",
    "    y1=np.where(active_routing==2)[0][1]\n",
    "    y2=np.where(active_routing==2)[0][0]\n",
    "    x1=np.where(active_routing==2)[1][1]\n",
    "    x2=np.where(active_routing==2)[1][0]\n",
    "    start= np.array([[y1,x1]])\n",
    "    end = np.array([[y2,x2]])\n",
    "    mid1 = np.array([[y1,mid]])\n",
    "    mid2 = np.array([[y2,mid]])\n",
    "    return start,end,mid1,mid2"
   ]
  },
  {
   "cell_type": "code",
   "execution_count": 101,
   "id": "e7080b1c",
   "metadata": {},
   "outputs": [],
   "source": [
    "def find_div_pos(divide,start,end,mid1,mid2):\n",
    "    div_pos=np.copy(start)\n",
    "    unit_space = np.array([unit_space_y, unit_space_x])\n",
    "    line1_length = np.sum(np.multiply(abs(start[0]-mid1[0]), unit_space))\n",
    "    line2_length = np.sum(np.multiply(abs(mid1[0]-mid2[0]), unit_space))\n",
    "    line3_length = np.sum(np.multiply(abs(mid2[0]-end[0]), unit_space))\n",
    "#    print(line1_length,line2_length,line3_length)\n",
    "    distance = line1_length+line2_length+line3_length\n",
    "    line_num=np.array([])\n",
    "    for i in range(divide.shape[0]):\n",
    "            \n",
    "            if divide[i]<=line1_length :\n",
    "                temp2 = np.copy(start)\n",
    "                temp2[0][1] += np.round(divide[i]/unit_space_x)\n",
    "                div_pos = np.append(div_pos,temp2,axis=0)\n",
    "                line_num=np.append(line_num,np.array([1]))\n",
    "            if line1_length<divide[i]<=line1_length+line2_length:\n",
    "                temp2 = np.copy(mid1)\n",
    "                temp2[0][0] -= np.round((divide[i]-line1_length)/unit_space_y)\n",
    "                div_pos = np.append(div_pos,temp2,axis=0)\n",
    "                line_num=np.append(line_num,np.array([2]))\n",
    "\n",
    "            if divide[i] > line1_length+line2_length:\n",
    "                temp2 = np.copy(mid2)\n",
    "                temp2[0][1] += np.round((divide[i]-line1_length-line2_length)/unit_space_x)\n",
    "                div_pos = np.append(div_pos,temp2,axis=0)\n",
    "                line_num=np.append(line_num,np.array([3]))\n",
    "\n",
    "                \n",
    "    div_pos = np.delete(div_pos,0,axis=0)\n",
    "    return div_pos,line_num,distance"
   ]
  },
  {
   "cell_type": "code",
   "execution_count": 102,
   "id": "e876b497",
   "metadata": {},
   "outputs": [],
   "source": [
    "def divide_line(active,min_rpt,start,end,mid1,mid2,add_num=0):\n",
    "\n",
    "    min_rpt = min_rpt + add_num\n",
    "    distance = abs(start-end)[0][0]*unit_space_y+abs(start-end)[0][1]*unit_space_x    \n",
    "    unit_distance = int(distance / (min_rpt+1) )\n",
    "    divide = np.array([])\n",
    "    divide_line = np.array([])\n",
    "    for i in range(min_rpt):\n",
    "        divide = np.append(divide, np.array(int(unit_distance/unit_space_x)*unit_space_x*(i+1)))\n",
    "        \n",
    "    div_pos,line_num,distance = find_div_pos(divide,start,end,mid1,mid2)\n",
    "    \n",
    "    space=np.min(np.append(divide,distance)-np.append(0,divide))\n",
    "    bound= int((target_length-space)/unit_space_x)        \n",
    "    online_min=bound\n",
    "    for i in range(div_pos.shape[0]-1):\n",
    "        dist=int(math.dist(div_pos[i],div_pos[i+1]))\n",
    "        if dist<online_min:\n",
    "            online_min=dist\n",
    "    return divide,div_pos,line_num,online_min,distance\n",
    "\n"
   ]
  },
  {
   "cell_type": "code",
   "execution_count": null,
   "id": "9fbdd75e",
   "metadata": {},
   "outputs": [],
   "source": []
  },
  {
   "cell_type": "code",
   "execution_count": 103,
   "id": "f0419fe5",
   "metadata": {},
   "outputs": [],
   "source": [
    "def select_area(active,active_inout,divide,div_point,online_min,distance):\n",
    "\n",
    "    space=np.min(np.append(divide,distance)-np.append(0,divide))\n",
    "    bound= int((target_length-space)/max(unit_space_x,unit_space_y))\n",
    "\n",
    "#    print(bound)\n",
    "    x1=div_point[1]\n",
    "    y1=div_point[0]\n",
    "    a = np.array([[0,0]])\n",
    "    \n",
    "    if x1-bound < 0:\n",
    "        \n",
    "        b=np.arange(0,x1+bound+1)\n",
    "    if (x1+bound) > (active.shape[1]-1):\n",
    "        b=np.arange(x1-bound,active.shape[1])\n",
    "    if x1-bound >= 0 and x1+bound <= active.shape[1]-1:\n",
    "        b=np.arange(x1-bound,x1+bound+1)\n",
    "        \n",
    "    if y1-bound < 0:\n",
    "        c=np.arange(0,y1+bound+1)\n",
    "    if (y1+bound) > (active.shape[0]-1):\n",
    "        c=np.arange(y1-bound,active.shape[0])\n",
    "    if y1-bound >= 0 and y1+bound <= active.shape[0]-1:\n",
    "        c=np.arange(y1-bound,y1+bound+1)   \n",
    "    for i in range(c.shape[0]):\n",
    "        for j in range(b.shape[0]):\n",
    "            a=np.append(a,np.array([[c[i],b[j]]]),axis=0)\n",
    "            \n",
    "    a = np.delete(a,0,axis=0)\n",
    "    c= np.array([[0, 0]])\n",
    "    online=np.array([])\n",
    "    for i in range(a.shape[0]):\n",
    "        x2=a[i][1]\n",
    "        y2=a[i][0]\n",
    "        \n",
    "        \n",
    "        if active[y2][x2] == 0 and active_inout[y2][x2]==0:\n",
    "            c=np.append(c,a[i].reshape(1,2),axis=0)\n",
    "            online=np.append(online,0)\n",
    "        if active[y2][x2] == 1 and active_inout[y2][x2]==0:\n",
    "            if math.dist(div_point,a[i])<=online_min:\n",
    "                c=np.append(c,a[i].reshape(1,2),axis=0)\n",
    "                online=np.append(online,1)\n",
    "            \n",
    "    select= np.delete(c,0,axis=0)\n",
    "\n",
    "    \n",
    "    return select,online"
   ]
  },
  {
   "cell_type": "code",
   "execution_count": 104,
   "id": "6064e9f7",
   "metadata": {},
   "outputs": [],
   "source": [
    "def find_opt_delay(active,active_inout,divide,div_pos,online_min,distance):\n",
    "    rpt_dist=np.array([])\n",
    "    opt_pos=np.array([[0,0]])\n",
    "    pos=np.copy(div_pos)\n",
    "    min_dist = 10000\n",
    "    error=0\n",
    "    for i in range(div_pos.shape[0]):\n",
    "        error=0\n",
    "        select,online = select_area(active,active_inout,divide,div_pos[i],online_min,distance)\n",
    "        if select.shape[0]==0:\n",
    "            error=1\n",
    "#            print(\"#######################NO ACTIVE################\")\n",
    "            break\n",
    "        else:\n",
    "            temp=abs(select-div_pos[i])\n",
    "            min_d=np.argmin(np.sum(temp,axis=1))\n",
    "            temp=np.sum(temp[min_d])\n",
    "            if online[min_d]==1:\n",
    "                pos[i]=select[min_d]\n",
    "                temp=0\n",
    "            opt_pos=np.append(opt_pos,select[min_d].reshape(1,2),axis=0)\n",
    "            rpt_dist=np.append(rpt_dist,temp)\n",
    "#            print(rpt_dist)\n",
    "    opt_pos=np.delete(opt_pos,0,axis=0)\n",
    "        \n",
    "    \n",
    "    return opt_pos,pos,rpt_dist,error"
   ]
  },
  {
   "cell_type": "code",
   "execution_count": 105,
   "id": "2fc8b669",
   "metadata": {},
   "outputs": [],
   "source": [
    "def cal_rpt_dist(active,opt_pos,pos,start,end,rpt_dist):\n",
    "\n",
    "    temp = np.append(pos,end,axis=0)\n",
    "    temp2 = np.append(start,pos,axis=0)\n",
    "    part_dist = np.sum(abs(temp-temp2),axis=1)\n",
    "#    print(part_dist)\n",
    "    temp3 = np.append(rpt_dist,np.array(0))\n",
    "\n",
    "    temp4 = np.append(np.array(0),rpt_dist)\n",
    "    dist = (part_dist+temp3+temp4)*unit_space_x\n",
    "    return dist  "
   ]
  },
  {
   "cell_type": "code",
   "execution_count": null,
   "id": "13a42234",
   "metadata": {},
   "outputs": [],
   "source": []
  },
  {
   "cell_type": "code",
   "execution_count": 107,
   "id": "8a70927d",
   "metadata": {},
   "outputs": [],
   "source": [
    "def gen_example(y,x,num=1):\n",
    "    start_time = time.time()\n",
    "    input=np.zeros([1,y,x,3])\n",
    "    output=np.zeros([1,y,x])\n",
    "\n",
    "#    path1=\"./dataset3/input1k_\"\n",
    "#    path2=\"./dataset3/output1k_\"\n",
    "    path1=\"./dataset3/testset/input1k_\"\n",
    "    path2=\"./dataset3/testset/output1k_\"\n",
    "    \n",
    "    check=num\n",
    "    check2=0\n",
    "    dist200=0\n",
    "    dist300=0\n",
    "    dist400=0    \n",
    "    density = np.array([0.75,0.8,0.85,0.9]) #pre-occupied active density\n",
    "    \n",
    "    while num > 0 :\n",
    "        \n",
    "        if check-num == 1000:\n",
    "            check2 +=1\n",
    "            print(\"Generate 1K_\"+str(check2))\n",
    "            check-=1000\n",
    "            input_part= np.delete(input,0,axis=0).astype(np.int8)\n",
    "            output_part= np.delete(output,0,axis=0).astype(np.int8)\n",
    "            np.save(path1+str(check2)+\".npy\",input_part)\n",
    "            np.save(path2+str(check2)+\".npy\",output_part)\n",
    "            input=np.zeros([1,y,x,3])\n",
    "            output=np.zeros([1,y,x])            \n",
    "            mid_time=time.time()\n",
    "            print(\"time per 10k:\",int(mid_time-start_time),\" s\")\n",
    "        add_num=0\n",
    "        error=0\n",
    "\n",
    "        den = np.random.choice(density)\n",
    "        seed=active_seed((y,x),den)        \n",
    "        \n",
    "        active_origin=active_trans(seed,2,4)\n",
    "        \n",
    "        seq = np.array([0,1,2,3])\n",
    "        repeat_seq = np.tile(seq,num)[:num]\n",
    "        \n",
    "        active,active_inout,active_routing,mid,distance,min_rpt,x1,x2,y1,y2=in_out_mid_gen(active_origin,repeat_seq[num-1])\n",
    "        start,end,mid1,mid2=find_start_end_mid(active_routing)\n",
    "\n",
    "\n",
    "        for i in range(5):\n",
    "            divide, div_pos,line_num,online_min,distance= divide_line(active,min_rpt,start,end,mid1,mid2,add_num)\n",
    "            add_num+=1\n",
    "            opt_pos,pos,rpt_dist,error=find_opt_delay(active,active_inout,divide,div_pos,online_min,distance)\n",
    "            \n",
    "            if error==1:\n",
    "#                print(\"############RPT_ADD because NO ACTIVE\")                \n",
    "                continue\n",
    "            dist=cal_rpt_dist(active,opt_pos,pos,start,end,rpt_dist)\n",
    "            \n",
    "           \n",
    "            if np.max(dist)<=100:\n",
    "                \n",
    "                if 200<=distance<300:\n",
    "                    dist200+=1\n",
    "                elif 300<=distance<400:\n",
    "                    dist300+=1\n",
    "                elif distance>=400:\n",
    "                    dist400+=1\n",
    "#                print(dist)\n",
    "#                print(np.sum(dist))\n",
    "                num -= 1\n",
    "                out=np.zeros(active.shape).astype(np.int8)\n",
    "                for i in range(opt_pos.shape[0]):\n",
    "\n",
    "                    xx=opt_pos[i][1]\n",
    "                    yy=opt_pos[i][0]\n",
    "                    out[yy][xx]=1\n",
    "                out=out.reshape([1,y,x])\n",
    "\n",
    "                temp=np.zeros([1,y,x,3])\n",
    "\n",
    "                temp[0,:,:,0] = active.reshape(1,active.shape[0],active.shape[1])\n",
    "                temp[0,:,:,1] = active_inout.reshape(1,active.shape[0],active.shape[1])\n",
    "                temp[0,:,:,2] = active_routing.reshape(1,active.shape[0],active.shape[1])\n",
    "                input=np.append(input,temp,axis=0)\n",
    "                output = np.append(output,out,axis=0)\n",
    "#                print(\"Add_num:::::\",add_num)\n",
    "                if add_num>=3:\n",
    "                    print(\"$$$$$$$$$$$$$$$$$$$$$$$$$$MORE_THAN_3_ADD$$$$$$$$$$$$$\",add_num)\n",
    "                \n",
    "                break\n",
    "            if add_num >= 5:\n",
    "                if np.max(dist)>100:\n",
    "                    error =1 \n",
    "                    print(\"######################ERROR###############\")\n",
    "                \n",
    "\n",
    "    output = np.delete(output,0,axis=0).astype(np.int8)\n",
    "    input = np.delete(input,0,axis=0).astype(np.int8)\n",
    "    np.save(path1+str(check2+1)+\".npy\",input)\n",
    "    np.save(path2+str(check2+1)+\".npy\",output)\n",
    "    end_time = time.time()\n",
    "    print(\"Total time:\",int(end_time-start_time),\"s\")\n",
    "    print(\"dist200:\",dist200)\n",
    "    print(\"dist300:\",dist300)\n",
    "    print(\"dist400:\",dist400)\n",
    "    return input,output,dist\n",
    "        \n"
   ]
  },
  {
   "cell_type": "code",
   "execution_count": 108,
   "id": "ee86981e",
   "metadata": {
    "scrolled": true
   },
   "outputs": [
    {
     "name": "stdout",
     "output_type": "stream",
     "text": [
      "$$$$$$$$$$$$$$$$$$$$$$$$$$MORE_THAN_3_ADD$$$$$$$$$$$$$ 3\n",
      "Generate 1K_1\n",
      "time per 10k: 17  s\n",
      "$$$$$$$$$$$$$$$$$$$$$$$$$$MORE_THAN_3_ADD$$$$$$$$$$$$$ 3\n",
      "$$$$$$$$$$$$$$$$$$$$$$$$$$MORE_THAN_3_ADD$$$$$$$$$$$$$ 3\n",
      "Generate 1K_2\n",
      "time per 10k: 36  s\n",
      "$$$$$$$$$$$$$$$$$$$$$$$$$$MORE_THAN_3_ADD$$$$$$$$$$$$$ 3\n",
      "$$$$$$$$$$$$$$$$$$$$$$$$$$MORE_THAN_3_ADD$$$$$$$$$$$$$ 3\n",
      "$$$$$$$$$$$$$$$$$$$$$$$$$$MORE_THAN_3_ADD$$$$$$$$$$$$$ 3\n",
      "$$$$$$$$$$$$$$$$$$$$$$$$$$MORE_THAN_3_ADD$$$$$$$$$$$$$ 3\n",
      "Generate 1K_3\n",
      "time per 10k: 55  s\n",
      "$$$$$$$$$$$$$$$$$$$$$$$$$$MORE_THAN_3_ADD$$$$$$$$$$$$$ 3\n",
      "$$$$$$$$$$$$$$$$$$$$$$$$$$MORE_THAN_3_ADD$$$$$$$$$$$$$ 3\n",
      "$$$$$$$$$$$$$$$$$$$$$$$$$$MORE_THAN_3_ADD$$$$$$$$$$$$$ 3\n",
      "Generate 1K_4\n",
      "time per 10k: 74  s\n",
      "$$$$$$$$$$$$$$$$$$$$$$$$$$MORE_THAN_3_ADD$$$$$$$$$$$$$ 3\n",
      "$$$$$$$$$$$$$$$$$$$$$$$$$$MORE_THAN_3_ADD$$$$$$$$$$$$$ 3\n",
      "$$$$$$$$$$$$$$$$$$$$$$$$$$MORE_THAN_3_ADD$$$$$$$$$$$$$ 3\n",
      "$$$$$$$$$$$$$$$$$$$$$$$$$$MORE_THAN_3_ADD$$$$$$$$$$$$$ 3\n",
      "$$$$$$$$$$$$$$$$$$$$$$$$$$MORE_THAN_3_ADD$$$$$$$$$$$$$ 3\n",
      "Generate 1K_5\n",
      "time per 10k: 91  s\n",
      "$$$$$$$$$$$$$$$$$$$$$$$$$$MORE_THAN_3_ADD$$$$$$$$$$$$$ 3\n",
      "$$$$$$$$$$$$$$$$$$$$$$$$$$MORE_THAN_3_ADD$$$$$$$$$$$$$ 3\n",
      "Generate 1K_6\n",
      "time per 10k: 109  s\n",
      "$$$$$$$$$$$$$$$$$$$$$$$$$$MORE_THAN_3_ADD$$$$$$$$$$$$$ 3\n",
      "$$$$$$$$$$$$$$$$$$$$$$$$$$MORE_THAN_3_ADD$$$$$$$$$$$$$ 3\n",
      "Generate 1K_7\n",
      "time per 10k: 128  s\n",
      "$$$$$$$$$$$$$$$$$$$$$$$$$$MORE_THAN_3_ADD$$$$$$$$$$$$$ 3\n",
      "$$$$$$$$$$$$$$$$$$$$$$$$$$MORE_THAN_3_ADD$$$$$$$$$$$$$ 3\n",
      "Generate 1K_8\n",
      "time per 10k: 146  s\n",
      "$$$$$$$$$$$$$$$$$$$$$$$$$$MORE_THAN_3_ADD$$$$$$$$$$$$$ 3\n",
      "$$$$$$$$$$$$$$$$$$$$$$$$$$MORE_THAN_3_ADD$$$$$$$$$$$$$ 3\n",
      "$$$$$$$$$$$$$$$$$$$$$$$$$$MORE_THAN_3_ADD$$$$$$$$$$$$$ 3\n",
      "$$$$$$$$$$$$$$$$$$$$$$$$$$MORE_THAN_3_ADD$$$$$$$$$$$$$ 3\n",
      "$$$$$$$$$$$$$$$$$$$$$$$$$$MORE_THAN_3_ADD$$$$$$$$$$$$$ 3\n",
      "Generate 1K_9\n",
      "time per 10k: 164  s\n",
      "$$$$$$$$$$$$$$$$$$$$$$$$$$MORE_THAN_3_ADD$$$$$$$$$$$$$ 3\n",
      "$$$$$$$$$$$$$$$$$$$$$$$$$$MORE_THAN_3_ADD$$$$$$$$$$$$$ 3\n",
      "$$$$$$$$$$$$$$$$$$$$$$$$$$MORE_THAN_3_ADD$$$$$$$$$$$$$ 3\n",
      "Total time: 181 s\n",
      "dist200: 4581\n",
      "dist300: 4999\n",
      "dist400: 420\n"
     ]
    }
   ],
   "source": [
    "input,output,dist=gen_example(32,64,10000)"
   ]
  },
  {
   "cell_type": "code",
   "execution_count": null,
   "id": "6a672df1",
   "metadata": {},
   "outputs": [],
   "source": []
  },
  {
   "cell_type": "code",
   "execution_count": 86,
   "id": "ab9e7dc1",
   "metadata": {},
   "outputs": [
    {
     "name": "stdout",
     "output_type": "stream",
     "text": [
      "(220000, 32, 64, 3)\n",
      "(220000, 32, 64)\n"
     ]
    }
   ],
   "source": [
    "r_input=np.array([]).reshape\n",
    "r_output=[]\n",
    "for i in range(1,221):\n",
    "\n",
    "        \n",
    "    path1=\"./dataset3/input1k_\"+str(i)+\".npy\"\n",
    "    path2=\"./dataset3/output1k_\"+str(i)+\".npy\"\n",
    "    if i==1:\n",
    "        r_input=np.load(path1)\n",
    "        r_output=np.load(path2)\n",
    "    else:\n",
    "        r_input=np.append(r_input,np.load(path1),axis=0)\n",
    "        r_output=np.append(r_output,np.load(path2),axis=0)\n",
    "    \n",
    "\n",
    "        \n",
    "print(r_input.shape)\n",
    "print(r_output.shape)"
   ]
  },
  {
   "cell_type": "code",
   "execution_count": 87,
   "id": "494cf83e",
   "metadata": {},
   "outputs": [],
   "source": [
    "#np.save(\"./dataset3/input220k.npy\",r_input)\n",
    "#np.save(\"./dataset3/output220k.npy\",r_output)"
   ]
  },
  {
   "cell_type": "code",
   "execution_count": 89,
   "id": "b7e6a4ec",
   "metadata": {},
   "outputs": [
    {
     "name": "stdout",
     "output_type": "stream",
     "text": [
      "(500000, 32, 64, 3)\n",
      "(500000, 32, 64)\n"
     ]
    }
   ],
   "source": [
    "r_input1=np.load(\"./dataset3/input280k.npy\")\n",
    "r_output1=np.load(\"./dataset3/output280k.npy\")\n",
    "r_input2=np.load(\"./dataset3/input220k.npy\")\n",
    "r_output2=np.load(\"./dataset3/output220k.npy\")\n",
    "\n",
    "r_input_combined = np.concatenate((r_input1, r_input2), axis=0)\n",
    "r_output_combined = np.concatenate((r_output1, r_output2), axis=0)\n",
    "\n",
    "print(r_input_combined.shape)\n",
    "print(r_output_combined.shape)\n"
   ]
  },
  {
   "cell_type": "code",
   "execution_count": 172,
   "id": "ed403e56",
   "metadata": {},
   "outputs": [
    {
     "name": "stdout",
     "output_type": "stream",
     "text": [
      "(1000, 32, 64, 3)\n",
      "(1000, 32, 64)\n"
     ]
    }
   ],
   "source": [
    "r_input=np.load(\"./dataset3/input500k.npy\")\n",
    "r_output=np.load(\"./dataset3/output500k.npy\")\n",
    "#r_input=np.load(\"./dataset3/testset/input1k_5.npy\")\n",
    "#r_output=np.load(\"./dataset3/testset/output1k_5.npy\")\n",
    "\n",
    "\n",
    "print(r_input.shape)\n",
    "print(r_output.shape)"
   ]
  },
  {
   "cell_type": "code",
   "execution_count": 173,
   "id": "8e3508d6",
   "metadata": {},
   "outputs": [],
   "source": [
    "r_output_modify = np.array([])\n",
    "for i in range(r_output.shape[0]):\n",
    "    r_output_modify=np.append(r_output_modify,np.sum(r_output[i]==1))\n",
    "\n",
    "r_output_modify2=np.zeros([r_output.shape[0],10])\n",
    "for i in range(r_output_modify.shape[0]):\n",
    "                    temp=r_output_modify[i].astype(np.int32)\n",
    "                    r_output_modify2[i][temp-1]=1"
   ]
  },
  {
   "cell_type": "code",
   "execution_count": 174,
   "id": "74fabd59",
   "metadata": {},
   "outputs": [
    {
     "name": "stdout",
     "output_type": "stream",
     "text": [
      "6.0\n",
      "3.0\n",
      "[0. 0. 1. 0. 0. 0. 0. 0. 0. 0.]\n"
     ]
    }
   ],
   "source": [
    "print(max(r_output_modify))\n",
    "print(r_output_modify[5])\n",
    "print(r_output_modify2[5])"
   ]
  },
  {
   "cell_type": "code",
   "execution_count": 175,
   "id": "1b51b1e3",
   "metadata": {},
   "outputs": [],
   "source": [
    "#np.save(\"./dataset3/testset/output1k_5_num.npy\",r_output_modify)\n",
    "#np.save(\"./dataset3/testset/output1k_5_num_class.npy\",r_output_modify2)\n"
   ]
  },
  {
   "cell_type": "code",
   "execution_count": 33,
   "id": "365f8c8c",
   "metadata": {},
   "outputs": [
    {
     "name": "stdout",
     "output_type": "stream",
     "text": [
      "[    0     0   213 66877 44998 58251 85701 23960]\n"
     ]
    }
   ],
   "source": [
    "##Density Profile\n",
    "density = np.array([])\n",
    "total_num = 32*64\n",
    "for i in range(r_input.shape[0]):\n",
    "    density=np.append(density,np.count_nonzero(r_input[i,:,:,1])/total_num)\n",
    "bin_edges = np.array([0.1, 0.2, 0.3, 0.4, 0.5, 0.6, 0.7, 0.8, 0.9])\n",
    "bin_indices = np.digitize(density, bin_edges)\n",
    "bin_counts = np.bincount(bin_indices)\n",
    "print(bin_counts)"
   ]
  },
  {
   "cell_type": "code",
   "execution_count": null,
   "id": "05e30650",
   "metadata": {},
   "outputs": [],
   "source": [
    "r_output_modify = np.array([])\n",
    "for i in range(r_output.shape[0]):\n",
    "    r_output_modify=np.append(r_output_modify,np.sum(r_output[i]==1))"
   ]
  },
  {
   "cell_type": "code",
   "execution_count": 15,
   "id": "f5b52724",
   "metadata": {},
   "outputs": [],
   "source": [
    "#####tools for calculating distance to interconnect\n",
    "\n",
    "def find_start_end_mid(active_routing):\n",
    "    a1=np.where(active_routing==1)[1]\n",
    "    unique_elements, counts=np.unique(a1, return_counts=True)\n",
    "    mid=unique_elements[counts>1][0]\n",
    "    \n",
    "    y1=np.where(active_routing==2)[0][1]\n",
    "    y2=np.where(active_routing==2)[0][0]\n",
    "    x1=np.where(active_routing==2)[1][1]\n",
    "    x2=np.where(active_routing==2)[1][0]\n",
    "    start= np.array([[x1,y1]])\n",
    "    end = np.array([[x2,y2]])\n",
    "    mid1 = np.array([[mid,y1]])\n",
    "    mid2 = np.array([[mid,y2]])\n",
    "    return start,end,mid1,mid2"
   ]
  },
  {
   "cell_type": "code",
   "execution_count": 52,
   "id": "50283567",
   "metadata": {},
   "outputs": [],
   "source": [
    "def cal_flat(active,y,x):\n",
    "    x_dim = active.shape[1]\n",
    "    y_dim = active.shape[0]\n",
    "    coord = y*x_dim + x\n",
    "    return coord\n",
    "\n",
    "def cal_unflat(active,num):\n",
    "    x_dim = active.shape[1]\n",
    "    y_dim = active.shape[0]\n",
    "    y = int(num / x_dim)\n",
    "    x = num % x_dim\n",
    "    return y,x"
   ]
  },
  {
   "cell_type": "code",
   "execution_count": 17,
   "id": "714c3b67",
   "metadata": {
    "scrolled": true
   },
   "outputs": [
    {
     "name": "stdout",
     "output_type": "stream",
     "text": [
      "(500000, 32, 64, 3)\n",
      "(500000, 10)\n",
      "(500000,)\n"
     ]
    }
   ],
   "source": [
    "r_input=np.load(\"./gnn/dataset3/input500k.npy\")\n",
    "r_output=np.load(\"./gnn/dataset3/output500k_num.npy\")\n",
    "r_output2=np.load(\"./gnn/dataset3/output500k.npy\")\n",
    "rpt_num = np.argwhere(r_output==1)[:,1]+1\n",
    "\n",
    "\n",
    "print(r_input.shape)\n",
    "print(r_output.shape)\n",
    "print(rpt_num.shape)"
   ]
  },
  {
   "cell_type": "code",
   "execution_count": 51,
   "id": "9047890d",
   "metadata": {},
   "outputs": [
    {
     "data": {
      "text/plain": [
       "3"
      ]
     },
     "execution_count": 51,
     "metadata": {},
     "output_type": "execute_result"
    }
   ],
   "source": [
    "r_input.shape[3]"
   ]
  },
  {
   "cell_type": "code",
   "execution_count": 55,
   "id": "e8278f9f",
   "metadata": {},
   "outputs": [],
   "source": [
    "r_input_pos = np.copy(r_input)\n",
    "r_output_pos = np.zeros([r_input_pos.shape[0],r_input_pos.shape[1]*r_input_pos.shape[2]])\n",
    "for i in range(r_input_pos.shape[0]):\n",
    "    active = r_input_pos[i,:,:,0]\n",
    "    active_inout = r_input_pos[i,:,:,1]\n",
    "    active_routing = r_input_pos[i,:,:,2]\n",
    "\n",
    "    start,end,mid1,mid2 = find_start_end_mid(active_routing)\n",
    "    divide, div_pos,line_num,online_min= divide_line(active,rpt_num[i],start,end,mid1,mid2,add_num=0)    \n",
    "    \n",
    "    for div in div_pos:\n",
    "        active[div[::-1][0],div[::-1][1]]=4\n",
    "        active_routing[div[::-1][0],div[::-1][1]]=4\n",
    "        r_output_pos[i][cal_flat(active, div[::-1][0], div[::-1][1])]=1\n"
   ]
  },
  {
   "cell_type": "code",
   "execution_count": 73,
   "id": "d0fa6a7e",
   "metadata": {},
   "outputs": [],
   "source": [
    "np.save(\"./gnn/dataset3/input500k_pos.npy\",r_input_pos)\n",
    "np.save(\"./gnn/dataset3/output500k_pos.npy\",r_output_pos.astype(np.int8))"
   ]
  },
  {
   "cell_type": "code",
   "execution_count": 75,
   "id": "a5804af5",
   "metadata": {},
   "outputs": [
    {
     "name": "stdout",
     "output_type": "stream",
     "text": [
      "(500000, 32, 64, 3)\n",
      "(500000, 2048)\n",
      "int8\n"
     ]
    }
   ],
   "source": [
    "r_input_pos = np.load(\"./gnn/dataset3/input500k_pos.npy\")\n",
    "r_output_pos = np.load(\"./gnn/dataset3/output500k_pos.npy\")\n",
    "\n",
    "print(r_input_pos.shape)\n",
    "print(r_output_pos.shape)\n",
    "print(r_output_pos.dtype)"
   ]
  },
  {
   "cell_type": "code",
   "execution_count": 66,
   "id": "44c8398c",
   "metadata": {},
   "outputs": [
    {
     "data": {
      "text/plain": [
       "(7, 46)"
      ]
     },
     "execution_count": 66,
     "metadata": {},
     "output_type": "execute_result"
    }
   ],
   "source": []
  },
  {
   "cell_type": "code",
   "execution_count": null,
   "id": "0b95675c",
   "metadata": {},
   "outputs": [],
   "source": []
  }
 ],
 "metadata": {
  "kernelspec": {
   "display_name": "Python 3 (ipykernel)",
   "language": "python",
   "name": "python3"
  },
  "language_info": {
   "codemirror_mode": {
    "name": "ipython",
    "version": 3
   },
   "file_extension": ".py",
   "mimetype": "text/x-python",
   "name": "python",
   "nbconvert_exporter": "python",
   "pygments_lexer": "ipython3",
   "version": "3.9.0"
  }
 },
 "nbformat": 4,
 "nbformat_minor": 5
}
